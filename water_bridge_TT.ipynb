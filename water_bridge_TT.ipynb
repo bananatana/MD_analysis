{
 "cells": [
  {
   "cell_type": "code",
   "execution_count": 2,
   "id": "e132d48d-f814-4be5-b0f1-41884bd08b25",
   "metadata": {},
   "outputs": [],
   "source": [
    "import csv\n",
    "import numpy as np\n",
    "import pandas as pd\n",
    "import MDAnalysis\n",
    "from MDAnalysis.analysis.hydrogenbonds import WaterBridgeAnalysis\n"
   ]
  },
  {
   "cell_type": "code",
   "execution_count": 3,
   "id": "c84b1ee3-15fa-41ac-8e90-644045cd76a3",
   "metadata": {},
   "outputs": [],
   "source": [
    "# Define the construct and replica file pattern\n",
    "construct = \"8HDO_HID\"  # Replace with your construct name\n",
    "replica_pattern = {\n",
    "    \"gro\": f\"{construct}-start.rep_{{}}.gro\",\n",
    "    \"xtc\": f\"{construct}-traj_centered_skip.rep_{{}}.xtc\"\n",
    "}\n",
    "\n",
    "# Define the ligand and list of residues to analyze\n",
    "ligand_selection = \"resname L01\"\n",
    "residues_to_analyze = [252, 253, 254]  # Replace with your residue IDs\n",
    "\n",
    "# Define ligand donors and acceptors\n",
    "HDO_donors = ['N0I', 'N0E']\n",
    "HDO_acceptors = ['O0J', 'N0R', 'O0X', 'S06']\n",
    "\n"
   ]
  },
  {
   "cell_type": "code",
   "execution_count": 4,
   "id": "e39271b3-9851-4a41-859a-7bc899558d34",
   "metadata": {},
   "outputs": [],
   "source": [
    "# Prepare data storage\n",
    "all_results = []\n",
    "occupancy_data = {resid: [] for resid in residues_to_analyze}  # Store occupancy counts for each residue\n"
   ]
  },
  {
   "cell_type": "code",
   "execution_count": 6,
   "id": "835551f0-5dbe-4858-ba9e-2953a1a6983f",
   "metadata": {},
   "outputs": [
    {
     "name": "stdout",
     "output_type": "stream",
     "text": [
      "Processing Replica 1...\n",
      "Analyzing residue 252 vs ligand for Replica 1...\n",
      "Analyzing residue 253 vs ligand for Replica 1...\n",
      "Analyzing residue 254 vs ligand for Replica 1...\n",
      "Processing Replica 2...\n",
      "Analyzing residue 252 vs ligand for Replica 2...\n",
      "Analyzing residue 253 vs ligand for Replica 2...\n",
      "Analyzing residue 254 vs ligand for Replica 2...\n",
      "Processing Replica 3...\n",
      "Analyzing residue 252 vs ligand for Replica 3...\n",
      "Analyzing residue 253 vs ligand for Replica 3...\n",
      "Analyzing residue 254 vs ligand for Replica 3...\n"
     ]
    }
   ],
   "source": [
    "for x in range(1, 4):  # Loop through replicas 1, 2, and 3\n",
    "    print(f\"Processing Replica {x}...\")\n",
    "    \n",
    "    # Define file paths dynamically\n",
    "    gro_file = replica_pattern[\"gro\"].format(x)\n",
    "    xtc_file = replica_pattern[\"xtc\"].format(x)\n",
    "    \n",
    "    # Load the trajectory for this replica\n",
    "    traj = MDAnalysis.Universe(gro_file, xtc_file)\n",
    "    \n",
    "    # Slice the last 90 frames\n",
    "    traj.trajectory[-90:]\n",
    "    num_frames = len(traj.trajectory)  # Number of frames in the sliced trajectory\n",
    "    \n",
    "    # Prepare results for this replica\n",
    "    replica_results = {\"Time (ps)\": None}\n",
    "    \n",
    "    for resid in residues_to_analyze:\n",
    "        residue_selection = f\"resid {resid}\"\n",
    "        print(f\"Analyzing residue {resid} vs ligand for Replica {x}...\")\n",
    "        \n",
    "        # Perform WaterBridgeAnalysis\n",
    "        w = WaterBridgeAnalysis(\n",
    "            traj, ligand_selection, residue_selection,\n",
    "            distance=3.5, angle=150, donors=HDO_donors, acceptors=HDO_acceptors\n",
    "        )\n",
    "        w.run()\n",
    "        \n",
    "        # Extract data (time and bridge count per frame)\n",
    "        data = w.count_by_time()\n",
    "        data_array = np.array(data)\n",
    "        \n",
    "        # Store time in \"Time (ps)\" only for the first residue in each replica\n",
    "        if replica_results[\"Time (ps)\"] is None:\n",
    "            replica_results[\"Time (ps)\"] = data_array[:, 0]\n",
    "        \n",
    "        # Store bridge counts for this residue\n",
    "        bridge_counts = data_array[:, 1]\n",
    "        replica_results[f\"Residue {resid}\"] = bridge_counts\n",
    "        \n",
    "        # Count frames with bridges and store for occupancy calculation\n",
    "        frames_with_bridges = np.sum(bridge_counts > 0)\n",
    "        occupancy_data[resid].append(frames_with_bridges / num_frames * 100)  # Occupancy as a percentage\n",
    "    \n",
    "    # Convert to DataFrame and add Replica information\n",
    "    replica_df = pd.DataFrame(replica_results)\n",
    "    replica_df[\"Replica\"] = f\"Replica {x}\"  # Add replica identifier\n",
    "    all_results.append(replica_df)\n",
    "\n",
    "# Combine all replicas\n",
    "final_results = pd.concat(all_results, ignore_index=True)\n",
    "\n",
    "# Save to CSV\n",
    "output_file = f\"{construct}_water_bridges_all_replicas.csv\"\n",
    "final_results.to_csv(output_file, index=False)"
   ]
  },
  {
   "cell_type": "code",
   "execution_count": 7,
   "id": "6f29eb65-d1b2-47ba-9b0e-4f3967ac0fe3",
   "metadata": {},
   "outputs": [
    {
     "name": "stdout",
     "output_type": "stream",
     "text": [
      "\n",
      "Residue Occupancy (%) Across All Replicas:\n",
      "Residue 252: 34.98%\n",
      "Residue 253: 0.00%\n",
      "Residue 254: 0.00%\n"
     ]
    }
   ],
   "source": [
    "# Calculate and print occupancy for each residue\n",
    "print(\"\\nResidue Occupancy (%) Across All Replicas:\")\n",
    "for resid, occupancies in occupancy_data.items():\n",
    "    average_occupancy = np.mean(occupancies)\n",
    "    print(f\"Residue {resid}: {average_occupancy:.2f}%\")\n"
   ]
  },
  {
   "cell_type": "code",
   "execution_count": null,
   "id": "f2594e92-c087-4798-823e-f48d6d6205e5",
   "metadata": {},
   "outputs": [],
   "source": [
    "\n"
   ]
  },
  {
   "cell_type": "code",
   "execution_count": null,
   "id": "ada0bdda-8891-467b-b88d-08a96ad2db45",
   "metadata": {},
   "outputs": [],
   "source": []
  }
 ],
 "metadata": {
  "kernelspec": {
   "display_name": "Python 3 (ipykernel)",
   "language": "python",
   "name": "python3"
  },
  "language_info": {
   "codemirror_mode": {
    "name": "ipython",
    "version": 3
   },
   "file_extension": ".py",
   "mimetype": "text/x-python",
   "name": "python",
   "nbconvert_exporter": "python",
   "pygments_lexer": "ipython3",
   "version": "3.10.4"
  }
 },
 "nbformat": 4,
 "nbformat_minor": 5
}
